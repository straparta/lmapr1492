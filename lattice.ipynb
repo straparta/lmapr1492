{
 "cells": [
  {
   "cell_type": "markdown",
   "id": "db94f9ca",
   "metadata": {},
   "source": [
    "Arnaud Strapart - 38321800 \n",
    "\n",
    "Tâche 5 "
   ]
  },
  {
   "cell_type": "code",
   "execution_count": 13,
   "id": "50fb1d25",
   "metadata": {},
   "outputs": [],
   "source": [
    "from pymatgen.ext.matproj import MPRester\n",
    "from pymatgen.symmetry.analyzer import *"
   ]
  },
  {
   "cell_type": "code",
   "execution_count": 14,
   "id": "bd14977e",
   "metadata": {},
   "outputs": [
    {
     "name": "stdout",
     "output_type": "stream",
     "text": [
      "Full Formula (Ti1 Fe1 Te1)\n",
      "Reduced Formula: TiFeTe\n",
      "abc   :   4.160199   4.160199   4.160199\n",
      "angles:  60.000000  60.000000  60.000000\n",
      "Sites (3)\n",
      "  #  SP       a     b     c    magmom\n",
      "---  ----  ----  ----  ----  --------\n",
      "  0  Ti    0.5   0.5   0.5     -0.006\n",
      "  1  Fe    0.25  0.25  0.25     0.008\n",
      "  2  Te    0     0     0        0\n",
      "\n"
     ]
    }
   ],
   "source": [
    "USER_API_KEY = \"Nodct0JRu4WQk1EPp\"\n",
    "with MPRester(USER_API_KEY) as m:\n",
    "    # Structure for material id\n",
    "    structure = m.get_structure_by_material_id(\"mp-961673\")\n",
    "    print(structure)\n",
    "    print()"
   ]
  },
  {
   "cell_type": "markdown",
   "id": "7dd9c045",
   "metadata": {},
   "source": [
    "### Déterminer les vecteurs de bases des ses réseaux direct et réciproque"
   ]
  },
  {
   "cell_type": "code",
   "execution_count": 15,
   "id": "5e325d7e",
   "metadata": {},
   "outputs": [],
   "source": [
    "spa = SpacegroupAnalyzer(structure,0.1)\n",
    "data = spa.get_primitive_standard_structure()"
   ]
  },
  {
   "cell_type": "code",
   "execution_count": 16,
   "id": "7e01ce49",
   "metadata": {},
   "outputs": [
    {
     "name": "stdout",
     "output_type": "stream",
     "text": [
      "Vecteurs de base du réseau direct :\n",
      "a =  [3.60283811 0.         2.08009955]\n",
      "b =  [3.60283811 0.         2.08009955]\n",
      "c =  [3.60283811 0.         2.08009955]\n",
      "\n"
     ]
    }
   ],
   "source": [
    "a=data.lattice.a\n",
    "alpha=data.lattice.alpha\n",
    "matrix_direct = SpacegroupAnalyzer(data).find_primitive().lattice.rhombohedral(a,alpha).matrix\n",
    "\n",
    "print(\"Vecteurs de base du réseau direct :\")\n",
    "print(\"a = \" ,matrix_direct[0])\n",
    "print(\"b = \" ,matrix_direct[0])\n",
    "print(\"c = \" ,matrix_direct[0])\n",
    "print()"
   ]
  },
  {
   "cell_type": "code",
   "execution_count": 17,
   "id": "c0d230b2",
   "metadata": {},
   "outputs": [
    {
     "name": "stdout",
     "output_type": "stream",
     "text": [
      "Vecteurs de base du réseau réciproque :\n",
      "a' =  [ 1.74395438 -0.61658098  0.        ]\n",
      "b' =  [0.         1.84974295 0.        ]\n",
      "c' =  [-0.87197719 -0.61658098  1.5103088 ]\n",
      "\n"
     ]
    }
   ],
   "source": [
    "reciprocalNetwork = structure.lattice.reciprocal_lattice\n",
    "\n",
    "matrix_recip = spa.find_primitive().lattice.rhombohedral(a,alpha).reciprocal_lattice.matrix\n",
    "\n",
    "print(\"Vecteurs de base du réseau réciproque :\")\n",
    "print(\"a' = \" ,matrix_recip[0])\n",
    "print(\"b' = \" ,matrix_recip[1])\n",
    "print(\"c' = \" ,matrix_recip[2])\n",
    "print()\n"
   ]
  },
  {
   "cell_type": "markdown",
   "id": "b3c2fff0",
   "metadata": {},
   "source": [
    "### Déterminer  le type de maille, son système cristallin, ainsi que son groupe ponctuel"
   ]
  },
  {
   "cell_type": "code",
   "execution_count": 18,
   "id": "a13f3fcf",
   "metadata": {},
   "outputs": [
    {
     "name": "stdout",
     "output_type": "stream",
     "text": [
      "Type de maille      :  cubic\n",
      "Système cristallin  :  cubic\n",
      "Groupe ponctuel     :  -43m\n"
     ]
    }
   ],
   "source": [
    "print(\"Type de maille      :  \"+ str(spa.get_lattice_type()) ) \n",
    "print(\"Système cristallin  :  \" + str(spa.get_crystal_system()) )\n",
    "print(\"Groupe ponctuel     :  \" +str(spa.get_point_group_symbol()) ) "
   ]
  }
 ],
 "metadata": {
  "kernelspec": {
   "display_name": "Python 3",
   "language": "python",
   "name": "python3"
  },
  "language_info": {
   "codemirror_mode": {
    "name": "ipython",
    "version": 3
   },
   "file_extension": ".py",
   "mimetype": "text/x-python",
   "name": "python",
   "nbconvert_exporter": "python",
   "pygments_lexer": "ipython3",
   "version": "3.6.8"
  }
 },
 "nbformat": 4,
 "nbformat_minor": 5
}
