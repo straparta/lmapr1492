{
 "cells": [
  {
   "cell_type": "markdown",
   "id": "75566e00",
   "metadata": {},
   "source": [
    "Arnaud Strapart - 38321800 \n",
    "\n",
    "Tâche 4 "
   ]
  },
  {
   "cell_type": "code",
   "execution_count": 1,
   "id": "6da302b5",
   "metadata": {},
   "outputs": [],
   "source": [
    "from pymatgen.ext.matproj import MPRester"
   ]
  },
  {
   "cell_type": "code",
   "execution_count": 2,
   "id": "068c6295",
   "metadata": {},
   "outputs": [],
   "source": [
    "USER_API_KEY = \"Nodct0JRu4WQk1EPp\""
   ]
  },
  {
   "cell_type": "code",
   "execution_count": 3,
   "id": "ea9f8fa8",
   "metadata": {},
   "outputs": [],
   "source": [
    "with MPRester(USER_API_KEY) as m:\n",
    "    # Structure for material id\n",
    "    structure = m.get_structure_by_material_id(\"mp-961673\")"
   ]
  },
  {
   "cell_type": "code",
   "execution_count": 4,
   "id": "1ac1f278",
   "metadata": {},
   "outputs": [
    {
     "name": "stdout",
     "output_type": "stream",
     "text": [
      "Full Formula (Ti1 Fe1 Te1)\n",
      "Reduced Formula: TiFeTe\n",
      "abc   :   4.160199   4.160199   4.160199\n",
      "angles:  60.000000  60.000000  60.000000\n",
      "Sites (3)\n",
      "  #  SP       a     b     c    magmom\n",
      "---  ----  ----  ----  ----  --------\n",
      "  0  Ti    0.5   0.5   0.5     -0.006\n",
      "  1  Fe    0.25  0.25  0.25     0.008\n",
      "  2  Te    0     0     0        0\n"
     ]
    }
   ],
   "source": [
    "print(structure)"
   ]
  },
  {
   "cell_type": "code",
   "execution_count": null,
   "id": "b2583923",
   "metadata": {},
   "outputs": [],
   "source": []
  }
 ],
 "metadata": {
  "kernelspec": {
   "display_name": "Python 3",
   "language": "python",
   "name": "python3"
  },
  "language_info": {
   "codemirror_mode": {
    "name": "ipython",
    "version": 3
   },
   "file_extension": ".py",
   "mimetype": "text/x-python",
   "name": "python",
   "nbconvert_exporter": "python",
   "pygments_lexer": "ipython3",
   "version": "3.6.8"
  }
 },
 "nbformat": 4,
 "nbformat_minor": 5
}
